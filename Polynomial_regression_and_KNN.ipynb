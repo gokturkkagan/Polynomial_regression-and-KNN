{
  "nbformat": 4,
  "nbformat_minor": 0,
  "metadata": {
    "colab": {
      "name": "Polynomial regression and KNN",
      "provenance": [],
      "collapsed_sections": []
    },
    "kernelspec": {
      "name": "python3",
      "display_name": "Python 3"
    },
    "language_info": {
      "name": "python"
    }
  },
  "cells": [
    {
      "cell_type": "code",
      "execution_count": null,
      "metadata": {
        "id": "oUJ2OuQPSjHf"
      },
      "outputs": [],
      "source": [
        "import pandas as pd\n",
        "from sklearn.tree import _tree\n",
        "import numpy as np\n",
        "from matplotlib import pyplot as plt\n",
        "from sklearn.metrics import plot_confusion_matrix\n",
        "from sklearn.metrics import confusion_matrix\n",
        "import seaborn as sn\n",
        "from sklearn.tree import DecisionTreeClassifier\n",
        "from sklearn.metrics import accuracy_score\n",
        "from sklearn.utils import shuffle\n",
        "from sklearn.model_selection import train_test_split\n",
        "import random\n",
        "from sklearn.metrics import accuracy_score\n"
      ]
    },
    {
      "cell_type": "markdown",
      "source": [
        "The link of the project : https://colab.research.google.com/drive/1oEObijZymV04ZqqLNPFz00llCA0ECzs8?usp=sharing"
      ],
      "metadata": {
        "id": "Xx3LuHbMW_sU"
      }
    },
    {
      "cell_type": "code",
      "source": [
        "df = pd.read_csv('/content/test_scores.csv')"
      ],
      "metadata": {
        "id": "04CI6a8CSqlW"
      },
      "execution_count": null,
      "outputs": []
    },
    {
      "cell_type": "code",
      "source": [
        "df.head()"
      ],
      "metadata": {
        "colab": {
          "base_uri": "https://localhost:8080/",
          "height": 418
        },
        "id": "E63WWK-YSvoN",
        "outputId": "6d7bfb0b-ed56-4ec2-9456-c31e2f9b45e8"
      },
      "execution_count": null,
      "outputs": [
        {
          "output_type": "execute_result",
          "data": {
            "text/plain": [
              "  school school_setting school_type classroom teaching_method  n_student  \\\n",
              "0  ANKYI          Urban  Non-public       6OL        Standard       20.0   \n",
              "1  ANKYI          Urban  Non-public       6OL        Standard       20.0   \n",
              "2  ANKYI          Urban  Non-public       6OL        Standard       20.0   \n",
              "3  ANKYI          Urban  Non-public       6OL        Standard       20.0   \n",
              "4  ANKYI          Urban  Non-public       6OL        Standard       20.0   \n",
              "\n",
              "  student_id  gender             lunch  pretest  posttest  \n",
              "0      2FHT3  Female  Does not qualify     62.0      72.0  \n",
              "1      3JIVH  Female  Does not qualify     66.0      79.0  \n",
              "2      3XOWE    Male  Does not qualify     64.0      76.0  \n",
              "3      556O0  Female  Does not qualify     61.0      77.0  \n",
              "4      74LOE    Male  Does not qualify     64.0      76.0  "
            ],
            "text/html": [
              "\n",
              "  <div id=\"df-6a980fa8-6f7e-4172-b718-3e606b3c91ef\">\n",
              "    <div class=\"colab-df-container\">\n",
              "      <div>\n",
              "<style scoped>\n",
              "    .dataframe tbody tr th:only-of-type {\n",
              "        vertical-align: middle;\n",
              "    }\n",
              "\n",
              "    .dataframe tbody tr th {\n",
              "        vertical-align: top;\n",
              "    }\n",
              "\n",
              "    .dataframe thead th {\n",
              "        text-align: right;\n",
              "    }\n",
              "</style>\n",
              "<table border=\"1\" class=\"dataframe\">\n",
              "  <thead>\n",
              "    <tr style=\"text-align: right;\">\n",
              "      <th></th>\n",
              "      <th>school</th>\n",
              "      <th>school_setting</th>\n",
              "      <th>school_type</th>\n",
              "      <th>classroom</th>\n",
              "      <th>teaching_method</th>\n",
              "      <th>n_student</th>\n",
              "      <th>student_id</th>\n",
              "      <th>gender</th>\n",
              "      <th>lunch</th>\n",
              "      <th>pretest</th>\n",
              "      <th>posttest</th>\n",
              "    </tr>\n",
              "  </thead>\n",
              "  <tbody>\n",
              "    <tr>\n",
              "      <th>0</th>\n",
              "      <td>ANKYI</td>\n",
              "      <td>Urban</td>\n",
              "      <td>Non-public</td>\n",
              "      <td>6OL</td>\n",
              "      <td>Standard</td>\n",
              "      <td>20.0</td>\n",
              "      <td>2FHT3</td>\n",
              "      <td>Female</td>\n",
              "      <td>Does not qualify</td>\n",
              "      <td>62.0</td>\n",
              "      <td>72.0</td>\n",
              "    </tr>\n",
              "    <tr>\n",
              "      <th>1</th>\n",
              "      <td>ANKYI</td>\n",
              "      <td>Urban</td>\n",
              "      <td>Non-public</td>\n",
              "      <td>6OL</td>\n",
              "      <td>Standard</td>\n",
              "      <td>20.0</td>\n",
              "      <td>3JIVH</td>\n",
              "      <td>Female</td>\n",
              "      <td>Does not qualify</td>\n",
              "      <td>66.0</td>\n",
              "      <td>79.0</td>\n",
              "    </tr>\n",
              "    <tr>\n",
              "      <th>2</th>\n",
              "      <td>ANKYI</td>\n",
              "      <td>Urban</td>\n",
              "      <td>Non-public</td>\n",
              "      <td>6OL</td>\n",
              "      <td>Standard</td>\n",
              "      <td>20.0</td>\n",
              "      <td>3XOWE</td>\n",
              "      <td>Male</td>\n",
              "      <td>Does not qualify</td>\n",
              "      <td>64.0</td>\n",
              "      <td>76.0</td>\n",
              "    </tr>\n",
              "    <tr>\n",
              "      <th>3</th>\n",
              "      <td>ANKYI</td>\n",
              "      <td>Urban</td>\n",
              "      <td>Non-public</td>\n",
              "      <td>6OL</td>\n",
              "      <td>Standard</td>\n",
              "      <td>20.0</td>\n",
              "      <td>556O0</td>\n",
              "      <td>Female</td>\n",
              "      <td>Does not qualify</td>\n",
              "      <td>61.0</td>\n",
              "      <td>77.0</td>\n",
              "    </tr>\n",
              "    <tr>\n",
              "      <th>4</th>\n",
              "      <td>ANKYI</td>\n",
              "      <td>Urban</td>\n",
              "      <td>Non-public</td>\n",
              "      <td>6OL</td>\n",
              "      <td>Standard</td>\n",
              "      <td>20.0</td>\n",
              "      <td>74LOE</td>\n",
              "      <td>Male</td>\n",
              "      <td>Does not qualify</td>\n",
              "      <td>64.0</td>\n",
              "      <td>76.0</td>\n",
              "    </tr>\n",
              "  </tbody>\n",
              "</table>\n",
              "</div>\n",
              "      <button class=\"colab-df-convert\" onclick=\"convertToInteractive('df-6a980fa8-6f7e-4172-b718-3e606b3c91ef')\"\n",
              "              title=\"Convert this dataframe to an interactive table.\"\n",
              "              style=\"display:none;\">\n",
              "        \n",
              "  <svg xmlns=\"http://www.w3.org/2000/svg\" height=\"24px\"viewBox=\"0 0 24 24\"\n",
              "       width=\"24px\">\n",
              "    <path d=\"M0 0h24v24H0V0z\" fill=\"none\"/>\n",
              "    <path d=\"M18.56 5.44l.94 2.06.94-2.06 2.06-.94-2.06-.94-.94-2.06-.94 2.06-2.06.94zm-11 1L8.5 8.5l.94-2.06 2.06-.94-2.06-.94L8.5 2.5l-.94 2.06-2.06.94zm10 10l.94 2.06.94-2.06 2.06-.94-2.06-.94-.94-2.06-.94 2.06-2.06.94z\"/><path d=\"M17.41 7.96l-1.37-1.37c-.4-.4-.92-.59-1.43-.59-.52 0-1.04.2-1.43.59L10.3 9.45l-7.72 7.72c-.78.78-.78 2.05 0 2.83L4 21.41c.39.39.9.59 1.41.59.51 0 1.02-.2 1.41-.59l7.78-7.78 2.81-2.81c.8-.78.8-2.07 0-2.86zM5.41 20L4 18.59l7.72-7.72 1.47 1.35L5.41 20z\"/>\n",
              "  </svg>\n",
              "      </button>\n",
              "      \n",
              "  <style>\n",
              "    .colab-df-container {\n",
              "      display:flex;\n",
              "      flex-wrap:wrap;\n",
              "      gap: 12px;\n",
              "    }\n",
              "\n",
              "    .colab-df-convert {\n",
              "      background-color: #E8F0FE;\n",
              "      border: none;\n",
              "      border-radius: 50%;\n",
              "      cursor: pointer;\n",
              "      display: none;\n",
              "      fill: #1967D2;\n",
              "      height: 32px;\n",
              "      padding: 0 0 0 0;\n",
              "      width: 32px;\n",
              "    }\n",
              "\n",
              "    .colab-df-convert:hover {\n",
              "      background-color: #E2EBFA;\n",
              "      box-shadow: 0px 1px 2px rgba(60, 64, 67, 0.3), 0px 1px 3px 1px rgba(60, 64, 67, 0.15);\n",
              "      fill: #174EA6;\n",
              "    }\n",
              "\n",
              "    [theme=dark] .colab-df-convert {\n",
              "      background-color: #3B4455;\n",
              "      fill: #D2E3FC;\n",
              "    }\n",
              "\n",
              "    [theme=dark] .colab-df-convert:hover {\n",
              "      background-color: #434B5C;\n",
              "      box-shadow: 0px 1px 3px 1px rgba(0, 0, 0, 0.15);\n",
              "      filter: drop-shadow(0px 1px 2px rgba(0, 0, 0, 0.3));\n",
              "      fill: #FFFFFF;\n",
              "    }\n",
              "  </style>\n",
              "\n",
              "      <script>\n",
              "        const buttonEl =\n",
              "          document.querySelector('#df-6a980fa8-6f7e-4172-b718-3e606b3c91ef button.colab-df-convert');\n",
              "        buttonEl.style.display =\n",
              "          google.colab.kernel.accessAllowed ? 'block' : 'none';\n",
              "\n",
              "        async function convertToInteractive(key) {\n",
              "          const element = document.querySelector('#df-6a980fa8-6f7e-4172-b718-3e606b3c91ef');\n",
              "          const dataTable =\n",
              "            await google.colab.kernel.invokeFunction('convertToInteractive',\n",
              "                                                     [key], {});\n",
              "          if (!dataTable) return;\n",
              "\n",
              "          const docLinkHtml = 'Like what you see? Visit the ' +\n",
              "            '<a target=\"_blank\" href=https://colab.research.google.com/notebooks/data_table.ipynb>data table notebook</a>'\n",
              "            + ' to learn more about interactive tables.';\n",
              "          element.innerHTML = '';\n",
              "          dataTable['output_type'] = 'display_data';\n",
              "          await google.colab.output.renderOutput(dataTable, element);\n",
              "          const docLink = document.createElement('div');\n",
              "          docLink.innerHTML = docLinkHtml;\n",
              "          element.appendChild(docLink);\n",
              "        }\n",
              "      </script>\n",
              "    </div>\n",
              "  </div>\n",
              "  "
            ]
          },
          "metadata": {},
          "execution_count": 4
        }
      ]
    },
    {
      "cell_type": "code",
      "source": [
        "df.dtypes"
      ],
      "metadata": {
        "colab": {
          "base_uri": "https://localhost:8080/"
        },
        "id": "8bAN6IKPTnFu",
        "outputId": "faeb0afa-a90d-42f0-d1c8-95ea52a954ec"
      },
      "execution_count": null,
      "outputs": [
        {
          "output_type": "execute_result",
          "data": {
            "text/plain": [
              "school              object\n",
              "school_setting      object\n",
              "school_type         object\n",
              "classroom           object\n",
              "teaching_method     object\n",
              "n_student          float64\n",
              "student_id          object\n",
              "gender              object\n",
              "lunch               object\n",
              "pretest            float64\n",
              "posttest           float64\n",
              "dtype: object"
            ]
          },
          "metadata": {},
          "execution_count": 7
        }
      ]
    },
    {
      "cell_type": "code",
      "source": [
        "df.info()"
      ],
      "metadata": {
        "colab": {
          "base_uri": "https://localhost:8080/"
        },
        "id": "IT5P8YK6Ts53",
        "outputId": "e639aded-d501-49ac-f611-fe23977447ec"
      },
      "execution_count": null,
      "outputs": [
        {
          "output_type": "stream",
          "name": "stdout",
          "text": [
            "<class 'pandas.core.frame.DataFrame'>\n",
            "RangeIndex: 2133 entries, 0 to 2132\n",
            "Data columns (total 11 columns):\n",
            " #   Column           Non-Null Count  Dtype  \n",
            "---  ------           --------------  -----  \n",
            " 0   school           2133 non-null   object \n",
            " 1   school_setting   2133 non-null   object \n",
            " 2   school_type      2133 non-null   object \n",
            " 3   classroom        2133 non-null   object \n",
            " 4   teaching_method  2133 non-null   object \n",
            " 5   n_student        2133 non-null   float64\n",
            " 6   student_id       2133 non-null   object \n",
            " 7   gender           2133 non-null   object \n",
            " 8   lunch            2133 non-null   object \n",
            " 9   pretest          2133 non-null   float64\n",
            " 10  posttest         2133 non-null   float64\n",
            "dtypes: float64(3), object(8)\n",
            "memory usage: 183.4+ KB\n"
          ]
        }
      ]
    },
    {
      "cell_type": "code",
      "source": [
        "df.isna().any()"
      ],
      "metadata": {
        "colab": {
          "base_uri": "https://localhost:8080/"
        },
        "id": "o8bzZ_-lTyfK",
        "outputId": "3744c494-8ac0-4b68-ca7d-e6eeab6c6eb2"
      },
      "execution_count": null,
      "outputs": [
        {
          "output_type": "execute_result",
          "data": {
            "text/plain": [
              "school             False\n",
              "school_setting     False\n",
              "school_type        False\n",
              "classroom          False\n",
              "teaching_method    False\n",
              "n_student          False\n",
              "student_id         False\n",
              "gender             False\n",
              "lunch              False\n",
              "pretest            False\n",
              "posttest           False\n",
              "dtype: bool"
            ]
          },
          "metadata": {},
          "execution_count": 9
        }
      ]
    },
    {
      "cell_type": "code",
      "source": [
        "for i in  (df.columns):\n",
        "  display(df[i].nunique())\n",
        "  display(df[i].unique())"
      ],
      "metadata": {
        "colab": {
          "base_uri": "https://localhost:8080/",
          "height": 850
        },
        "id": "i0rsPOstUiYg",
        "outputId": "f50d5d61-d384-42ff-bc7c-8031ea98bc63"
      },
      "execution_count": null,
      "outputs": [
        {
          "output_type": "display_data",
          "data": {
            "text/plain": [
              "23"
            ]
          },
          "metadata": {}
        },
        {
          "output_type": "display_data",
          "data": {
            "text/plain": [
              "array(['ANKYI', 'CCAAW', 'CIMBB', 'CUQAM', 'DNQDD', 'FBUMG', 'GJJHK',\n",
              "       'GOKXL', 'GOOBU', 'IDGFP', 'KFZMY', 'KZKKE', 'LAYPA', 'OJOBU',\n",
              "       'QOQTS', 'UAGPU', 'UKPGS', 'UUUQX', 'VHDHF', 'VKWQH', 'VVTVA',\n",
              "       'ZMNYA', 'ZOWMK'], dtype=object)"
            ]
          },
          "metadata": {}
        },
        {
          "output_type": "display_data",
          "data": {
            "text/plain": [
              "3"
            ]
          },
          "metadata": {}
        },
        {
          "output_type": "display_data",
          "data": {
            "text/plain": [
              "array(['Urban', 'Suburban', 'Rural'], dtype=object)"
            ]
          },
          "metadata": {}
        },
        {
          "output_type": "display_data",
          "data": {
            "text/plain": [
              "2"
            ]
          },
          "metadata": {}
        },
        {
          "output_type": "display_data",
          "data": {
            "text/plain": [
              "array(['Non-public', 'Public'], dtype=object)"
            ]
          },
          "metadata": {}
        },
        {
          "output_type": "display_data",
          "data": {
            "text/plain": [
              "97"
            ]
          },
          "metadata": {}
        },
        {
          "output_type": "display_data",
          "data": {
            "text/plain": [
              "array(['6OL', 'ZNS', '2B1', 'EPS', 'IQN', 'PGK', 'UHU', 'UWK', 'A33',\n",
              "       'EID', 'HUJ', 'PC6', '1Q1', 'BFY', 'OMI', 'X6Z', '2AP', 'PW5',\n",
              "       'ROP', 'ST7', 'XXJ', '197', '5LQ', 'JGD', 'HCB', 'NOR', 'X78',\n",
              "       'YUC', 'ZDT', 'ENO', 'TSA', 'VA6', '18K', 'CXC', 'HKF', 'PBA',\n",
              "       'U6J', 'W8A', '05H', '98D', 'G2L', 'P2A', 'XZM', '1VD', '21Q',\n",
              "       '2BR', '3D0', '5JK', 'O6A', 'QTU', 'AJ1', 'J8J', 'RA5', '5SZ',\n",
              "       '6U9', 'FS3', 'XJ8', '0N7', '3XJ', 'RK7', 'SUR', 'X2O', 'XZ4',\n",
              "       '1SZ', '62L', 'NWZ', 'S98', '08N', '9AW', 'IPU', 'KXB', 'PGH',\n",
              "       'XXE', '6C1', 'AE1', 'H7S', 'P8I', 'SSP', 'CD8', 'J6X', 'KR1',\n",
              "       '341', 'D33', 'DFQ', 'GYM', 'IEM', '7BL', 'A93', 'TB5', 'YTB',\n",
              "       '1UU', '4NN', 'V77', 'CII', 'Q0E', 'QA2', 'ZBH'], dtype=object)"
            ]
          },
          "metadata": {}
        },
        {
          "output_type": "display_data",
          "data": {
            "text/plain": [
              "2"
            ]
          },
          "metadata": {}
        },
        {
          "output_type": "display_data",
          "data": {
            "text/plain": [
              "array(['Standard', 'Experimental'], dtype=object)"
            ]
          },
          "metadata": {}
        },
        {
          "output_type": "display_data",
          "data": {
            "text/plain": [
              "18"
            ]
          },
          "metadata": {}
        },
        {
          "output_type": "display_data",
          "data": {
            "text/plain": [
              "array([20., 21., 18., 15., 16., 19., 17., 28., 27., 24., 14., 22., 23.,\n",
              "       31., 25., 26., 29., 30.])"
            ]
          },
          "metadata": {}
        },
        {
          "output_type": "display_data",
          "data": {
            "text/plain": [
              "2133"
            ]
          },
          "metadata": {}
        },
        {
          "output_type": "display_data",
          "data": {
            "text/plain": [
              "array(['2FHT3', '3JIVH', '3XOWE', ..., 'YDR1Z', 'YUEIH', 'ZVCQ8'],\n",
              "      dtype=object)"
            ]
          },
          "metadata": {}
        },
        {
          "output_type": "display_data",
          "data": {
            "text/plain": [
              "2"
            ]
          },
          "metadata": {}
        },
        {
          "output_type": "display_data",
          "data": {
            "text/plain": [
              "array(['Female', 'Male'], dtype=object)"
            ]
          },
          "metadata": {}
        },
        {
          "output_type": "display_data",
          "data": {
            "text/plain": [
              "2"
            ]
          },
          "metadata": {}
        },
        {
          "output_type": "display_data",
          "data": {
            "text/plain": [
              "array(['Does not qualify', 'Qualifies for reduced/free lunch'],\n",
              "      dtype=object)"
            ]
          },
          "metadata": {}
        },
        {
          "output_type": "display_data",
          "data": {
            "text/plain": [
              "69"
            ]
          },
          "metadata": {}
        },
        {
          "output_type": "display_data",
          "data": {
            "text/plain": [
              "array([62., 66., 64., 61., 63., 60., 67., 57., 56., 58., 54., 59., 65.,\n",
              "       55., 68., 73., 70., 74., 76., 69., 75., 78., 72., 71., 49., 53.,\n",
              "       48., 52., 50., 46., 44., 51., 47., 43., 37., 40., 39., 41., 38.,\n",
              "       45., 36., 42., 31., 35., 33., 27., 30., 34., 32., 29., 28., 23.,\n",
              "       26., 77., 79., 82., 80., 85., 83., 84., 86., 89., 93., 88., 81.,\n",
              "       87., 91., 22., 25.])"
            ]
          },
          "metadata": {}
        },
        {
          "output_type": "display_data",
          "data": {
            "text/plain": [
              "68"
            ]
          },
          "metadata": {}
        },
        {
          "output_type": "display_data",
          "data": {
            "text/plain": [
              "array([ 72.,  79.,  76.,  77.,  74.,  75.,  73.,  78.,  71.,  70.,  68.,\n",
              "        66.,  65.,  67.,  63.,  69.,  82.,  87.,  80.,  83.,  81.,  84.,\n",
              "        85.,  91.,  86.,  64.,  88.,  61.,  62.,  58.,  57.,  59.,  56.,\n",
              "        60.,  55.,  54.,  49.,  53.,  52.,  50.,  51.,  48.,  39.,  43.,\n",
              "        45.,  47.,  42.,  44.,  46.,  41.,  36.,  40.,  32.,  38.,  35.,\n",
              "        34.,  93.,  90.,  92.,  97.,  95.,  99.,  89.,  94.,  96.,  98.,\n",
              "       100.,  37.])"
            ]
          },
          "metadata": {}
        }
      ]
    },
    {
      "cell_type": "code",
      "source": [
        "correlations = df.corrwith(df.posttest)\n",
        "correlations = correlations[correlations!=1]\n",
        "positive_correlations = correlations[correlations >0].sort_values(ascending = False)\n",
        "negative_correlations = correlations[correlations<0].sort_values(ascending = False)\n",
        "\n",
        "print('Most Positive Correlations: \\n', positive_correlations)\n",
        "print('\\nMost Negative Correlations: \\n', negative_correlations)"
      ],
      "metadata": {
        "colab": {
          "base_uri": "https://localhost:8080/"
        },
        "id": "P4tYqyiVVe34",
        "outputId": "67eb8341-c721-4343-d3c0-77edefc12206"
      },
      "execution_count": null,
      "outputs": [
        {
          "output_type": "stream",
          "name": "stdout",
          "text": [
            "Most Positive Correlations: \n",
            " pretest    0.950884\n",
            "dtype: float64\n",
            "\n",
            "Most Negative Correlations: \n",
            " n_student   -0.504886\n",
            "dtype: float64\n"
          ]
        }
      ]
    },
    {
      "cell_type": "code",
      "source": [
        "correlations.plot.bar(\n",
        "        figsize = (18, 10), fontsize = 15, color = '#ec838a',\n",
        "        rot = 45, grid = True)\n",
        "\n",
        "plt.title('Correlation with Posttest \\n',horizontalalignment=\"center\", fontstyle = \"normal\", fontsize = \"22\", fontfamily = \"sans-serif\")"
      ],
      "metadata": {
        "colab": {
          "base_uri": "https://localhost:8080/",
          "height": 679
        },
        "id": "Eysc8i_iVr4k",
        "outputId": "99520189-dee3-4f36-e1bb-fcb1ff0eac8c"
      },
      "execution_count": null,
      "outputs": [
        {
          "output_type": "execute_result",
          "data": {
            "text/plain": [
              "Text(0.5, 1.0, 'Correlation with Churn Rate \\n')"
            ]
          },
          "metadata": {},
          "execution_count": 16
        },
        {
          "output_type": "display_data",
          "data": {
            "text/plain": [
              "<Figure size 1296x720 with 1 Axes>"
            ],
            "image/png": "[encoded data removed]"
          },
          "metadata": {
            "needs_background": "light"
          }
        }
      ]
    },
    {
      "cell_type": "code",
      "source": [
        "col_cat=df.select_dtypes(include=['object'])"
      ],
      "metadata": {
        "id": "JNmiqqV1XJiD"
      },
      "execution_count": null,
      "outputs": []
    },
    {
      "cell_type": "code",
      "source": [
        "import seaborn as sns\n",
        "fig, axarr = plt.subplots(3, 3, figsize=(20, 12))\n",
        "sns.countplot(x='school',data = df, ax=axarr[0][0])\n",
        "sns.countplot(x='school_setting',data = df, ax=axarr[0][1])\n",
        "sns.countplot(x='school_type',data = df, ax=axarr[0][2])\n",
        "sns.countplot(x='classroom',data = df, ax=axarr[1][0])\n",
        "sns.countplot(x='teaching_method',data = df, ax=axarr[1][1])\n",
        "sns.countplot(x='student_id',data = df, ax=axarr[1][2])\n",
        "sns.countplot(x='gender',data = df, ax=axarr[2][0])\n",
        "sns.countplot(x='lunch',data = df, ax=axarr[2][1])\n"
      ],
      "metadata": {
        "colab": {
          "base_uri": "https://localhost:8080/",
          "height": 628
        },
        "id": "VLGX7sWZeDbH",
        "outputId": "e292a529-f391-4b3e-9f71-018e381f88c4"
      },
      "execution_count": null,
      "outputs": [
        {
          "output_type": "execute_result",
          "data": {
            "text/plain": [
              "<matplotlib.axes._subplots.AxesSubplot at 0x7f8a32fe7150>"
            ]
          },
          "metadata": {},
          "execution_count": 48
        },
        {
          "output_type": "display_data",
          "data": {
            "text/plain": [
              "<Figure size 1440x864 with 9 Axes>"
            ],
            "image/png": "[encoded data removed]"
          },
          "metadata": {
            "needs_background": "light"
          }
        }
      ]
    },
    {
      "cell_type": "code",
      "source": [
        "import pandas as pd\n",
        "import numpy as np\n",
        "import matplotlib.pyplot as plt\n",
        "for t in (col_cat.columns):\n",
        "\n",
        "  plt.scatter(df[t].astype(str), df[\"posttest\"])\n",
        "  plt.margins(x=0.5)\n",
        "  plt.show()\n"
      ],
      "metadata": {
        "colab": {
          "base_uri": "https://localhost:8080/",
          "height": 1000
        },
        "id": "7QI9oFB8be94",
        "outputId": "6c8eb396-af02-4ee5-9653-ea0c19579dc6"
      },
      "execution_count": null,
      "outputs": [
        {
          "output_type": "display_data",
          "data": {
            "text/plain": [
              "<Figure size 432x288 with 1 Axes>"
            ],
            "image/png": "[encoded data removed]"
          },
          "metadata": {
            "needs_background": "light"
          }
        },
        {
          "output_type": "display_data",
          "data": {
            "text/plain": [
              "<Figure size 432x288 with 1 Axes>"
            ],
            "image/png": "[encoded data removed]"
          },
          "metadata": {
            "needs_background": "light"
          }
        },
        {
          "output_type": "display_data",
          "data": {
            "text/plain": [
              "<Figure size 432x288 with 1 Axes>"
            ],
            "image/png": "[encoded data removed]"
          },
          "metadata": {
            "needs_background": "light"
          }
        },
        {
          "output_type": "display_data",
          "data": {
            "text/plain": [
              "<Figure size 432x288 with 1 Axes>"
            ],
            "image/png": "[encoded data removed]"
          },
          "metadata": {
            "needs_background": "light"
          }
        },
        {
          "output_type": "display_data",
          "data": {
            "text/plain": [
              "<Figure size 432x288 with 1 Axes>"
            ],
            "image/png": "[encoded data removed]"
          },
          "metadata": {
            "needs_background": "light"
          }
        },
        {
          "output_type": "display_data",
          "data": {
            "text/plain": [
              "<Figure size 432x288 with 1 Axes>"
            ],
            "image/png": "[encoded data removed]"
          },
          "metadata": {
            "needs_background": "light"
          }
        },
        {
          "output_type": "display_data",
          "data": {
            "text/plain": [
              "<Figure size 432x288 with 1 Axes>"
            ],
            "image/png": "[encoded data removed]"
          },
          "metadata": {
            "needs_background": "light"
          }
        },
        {
          "output_type": "display_data",
          "data": {
            "text/plain": [
              "<Figure size 432x288 with 1 Axes>"
            ],
            "image/png": "[encoded data removed]"
          },
          "metadata": {
            "needs_background": "light"
          }
        }
      ]
    },
    {
      "cell_type": "code",
      "source": [
        "df = df.drop(columns = \"student_id\")  \n",
        "col_cat = col_cat.drop(columns = \"student_id\") \n",
        "df = df.drop(columns = \"school\")  \n",
        "col_cat = col_cat.drop(columns = \"school\") \n",
        "df = df.drop(columns = \"classroom\")  \n",
        "col_cat = col_cat.drop(columns = \"classroom\") "
      ],
      "metadata": {
        "id": "kPbf9ahHfSdF"
      },
      "execution_count": null,
      "outputs": []
    },
    {
      "cell_type": "code",
      "source": [
        "def get_one_hot_encoding(dataframe, categorical_columns):\n",
        "    enc_oh = OneHotEncoder(sparse=False)\n",
        "    enc_oh.fit(dataframe[categorical_columns])\n",
        "    category_columns = np.concatenate(enc_oh.categories_)\n",
        "    encoded_features = enc_oh.transform(dataframe[categorical_columns])\n",
        "    dataframe[category_columns] = pd.DataFrame(\n",
        "        encoded_features,\n",
        "        columns=category_columns,\n",
        "        index=dataframe.index)\n",
        "    return dataframe.drop(categorical_columns, axis=1)"
      ],
      "metadata": {
        "id": "M8QFwn_VXQp3"
      },
      "execution_count": null,
      "outputs": []
    },
    {
      "cell_type": "code",
      "source": [
        "from sklearn.preprocessing import OneHotEncoder\n",
        "\n",
        "\n",
        "df_new=get_one_hot_encoding(df,col_cat.columns)"
      ],
      "metadata": {
        "id": "OY1C8wakY4xu"
      },
      "execution_count": null,
      "outputs": []
    },
    {
      "cell_type": "code",
      "source": [
        "X = df_new.drop(['posttest'],axis=1)\n",
        "y=df_new['posttest']\n",
        "# Split as 60%-20%-20%\n",
        "X_train, X_remaining,y_train, y_remaining= train_test_split(X,y, test_size=0.30,)\n",
        "X_test, X_val,y_test, y_val = train_test_split(X_remaining,y_remaining, test_size=0.50)\n",
        "\n"
      ],
      "metadata": {
        "id": "b4U70guBZJx9"
      },
      "execution_count": null,
      "outputs": []
    },
    {
      "cell_type": "code",
      "source": [
        "from sklearn.preprocessing import PolynomialFeatures\n",
        "from sklearn.linear_model import LinearRegression\n",
        "from sklearn.metrics import mean_absolute_error, mean_squared_error\n",
        "p=[1,2,3,4]\n",
        "train_MSE=[]\n",
        "val_MSE=[]\n",
        "for k in p:\n",
        "\n",
        "  poly_reg = PolynomialFeatures(degree=k)\n",
        "  X_poly_train = poly_reg.fit_transform(X_train)\n",
        "  lin_reg_2 = LinearRegression()\n",
        "  lin_reg_2.fit(X_poly_train, y_train)\n",
        "  y_pred = lin_reg_2.predict(X_poly_train)\n",
        "  \n",
        "  train_MSE.append(mean_squared_error(y_train, y_pred))\n",
        "\n",
        "  X_poly_valid = poly_reg.transform(X_val)\n",
        "  y_pred = lin_reg_2.predict(X_poly_valid)\n",
        "\n",
        "  val_MSE.append(mean_squared_error(y_val, y_pred))\n",
        "\n",
        "\n"
      ],
      "metadata": {
        "id": "brGUNGOBh39_"
      },
      "execution_count": null,
      "outputs": []
    },
    {
      "cell_type": "code",
      "source": [
        "skor_df=[]\n",
        "skor_df=pd.DataFrame(skor_df)\n",
        "skor_df['p value']=p\n",
        "skor_df['Traning MSE']=train_MSE\n",
        "skor_df['Validation MSE']=val_MSE\n",
        "display(skor_df)"
      ],
      "metadata": {
        "colab": {
          "base_uri": "https://localhost:8080/",
          "height": 173
        },
        "id": "aavbFe78kpy-",
        "outputId": "aeec1917-a0b7-4ff7-d2c0-1fa2259299bc"
      },
      "execution_count": null,
      "outputs": [
        {
          "output_type": "display_data",
          "data": {
            "text/plain": [
              "   p value  Traning MSE  Validation MSE\n",
              "0        1     9.985911       10.366453\n",
              "1        2     9.687183       10.723963\n",
              "2        3     8.907131       10.207663\n",
              "3        4     7.889585       14.058138"
            ],
            "text/html": [
              "\n",
              "  <div id=\"df-02829044-c65d-4a95-9769-7fd5b217db36\">\n",
              "    <div class=\"colab-df-container\">\n",
              "      <div>\n",
              "<style scoped>\n",
              "    .dataframe tbody tr th:only-of-type {\n",
              "        vertical-align: middle;\n",
              "    }\n",
              "\n",
              "    .dataframe tbody tr th {\n",
              "        vertical-align: top;\n",
              "    }\n",
              "\n",
              "    .dataframe thead th {\n",
              "        text-align: right;\n",
              "    }\n",
              "</style>\n",
              "<table border=\"1\" class=\"dataframe\">\n",
              "  <thead>\n",
              "    <tr style=\"text-align: right;\">\n",
              "      <th></th>\n",
              "      <th>p value</th>\n",
              "      <th>Traning MSE</th>\n",
              "      <th>Validation MSE</th>\n",
              "    </tr>\n",
              "  </thead>\n",
              "  <tbody>\n",
              "    <tr>\n",
              "      <th>0</th>\n",
              "      <td>1</td>\n",
              "      <td>9.985911</td>\n",
              "      <td>10.366453</td>\n",
              "    </tr>\n",
              "    <tr>\n",
              "      <th>1</th>\n",
              "      <td>2</td>\n",
              "      <td>9.687183</td>\n",
              "      <td>10.723963</td>\n",
              "    </tr>\n",
              "    <tr>\n",
              "      <th>2</th>\n",
              "      <td>3</td>\n",
              "      <td>8.907131</td>\n",
              "      <td>10.207663</td>\n",
              "    </tr>\n",
              "    <tr>\n",
              "      <th>3</th>\n",
              "      <td>4</td>\n",
              "      <td>7.889585</td>\n",
              "      <td>14.058138</td>\n",
              "    </tr>\n",
              "  </tbody>\n",
              "</table>\n",
              "</div>\n",
              "      <button class=\"colab-df-convert\" onclick=\"convertToInteractive('df-02829044-c65d-4a95-9769-7fd5b217db36')\"\n",
              "              title=\"Convert this dataframe to an interactive table.\"\n",
              "              style=\"display:none;\">\n",
              "        \n",
              "  <svg xmlns=\"http://www.w3.org/2000/svg\" height=\"24px\"viewBox=\"0 0 24 24\"\n",
              "       width=\"24px\">\n",
              "    <path d=\"M0 0h24v24H0V0z\" fill=\"none\"/>\n",
              "    <path d=\"M18.56 5.44l.94 2.06.94-2.06 2.06-.94-2.06-.94-.94-2.06-.94 2.06-2.06.94zm-11 1L8.5 8.5l.94-2.06 2.06-.94-2.06-.94L8.5 2.5l-.94 2.06-2.06.94zm10 10l.94 2.06.94-2.06 2.06-.94-2.06-.94-.94-2.06-.94 2.06-2.06.94z\"/><path d=\"M17.41 7.96l-1.37-1.37c-.4-.4-.92-.59-1.43-.59-.52 0-1.04.2-1.43.59L10.3 9.45l-7.72 7.72c-.78.78-.78 2.05 0 2.83L4 21.41c.39.39.9.59 1.41.59.51 0 1.02-.2 1.41-.59l7.78-7.78 2.81-2.81c.8-.78.8-2.07 0-2.86zM5.41 20L4 18.59l7.72-7.72 1.47 1.35L5.41 20z\"/>\n",
              "  </svg>\n",
              "      </button>\n",
              "      \n",
              "  <style>\n",
              "    .colab-df-container {\n",
              "      display:flex;\n",
              "      flex-wrap:wrap;\n",
              "      gap: 12px;\n",
              "    }\n",
              "\n",
              "    .colab-df-convert {\n",
              "      background-color: #E8F0FE;\n",
              "      border: none;\n",
              "      border-radius: 50%;\n",
              "      cursor: pointer;\n",
              "      display: none;\n",
              "      fill: #1967D2;\n",
              "      height: 32px;\n",
              "      padding: 0 0 0 0;\n",
              "      width: 32px;\n",
              "    }\n",
              "\n",
              "    .colab-df-convert:hover {\n",
              "      background-color: #E2EBFA;\n",
              "      box-shadow: 0px 1px 2px rgba(60, 64, 67, 0.3), 0px 1px 3px 1px rgba(60, 64, 67, 0.15);\n",
              "      fill: #174EA6;\n",
              "    }\n",
              "\n",
              "    [theme=dark] .colab-df-convert {\n",
              "      background-color: #3B4455;\n",
              "      fill: #D2E3FC;\n",
              "    }\n",
              "\n",
              "    [theme=dark] .colab-df-convert:hover {\n",
              "      background-color: #434B5C;\n",
              "      box-shadow: 0px 1px 3px 1px rgba(0, 0, 0, 0.15);\n",
              "      filter: drop-shadow(0px 1px 2px rgba(0, 0, 0, 0.3));\n",
              "      fill: #FFFFFF;\n",
              "    }\n",
              "  </style>\n",
              "\n",
              "      <script>\n",
              "        const buttonEl =\n",
              "          document.querySelector('#df-02829044-c65d-4a95-9769-7fd5b217db36 button.colab-df-convert');\n",
              "        buttonEl.style.display =\n",
              "          google.colab.kernel.accessAllowed ? 'block' : 'none';\n",
              "\n",
              "        async function convertToInteractive(key) {\n",
              "          const element = document.querySelector('#df-02829044-c65d-4a95-9769-7fd5b217db36');\n",
              "          const dataTable =\n",
              "            await google.colab.kernel.invokeFunction('convertToInteractive',\n",
              "                                                     [key], {});\n",
              "          if (!dataTable) return;\n",
              "\n",
              "          const docLinkHtml = 'Like what you see? Visit the ' +\n",
              "            '<a target=\"_blank\" href=https://colab.research.google.com/notebooks/data_table.ipynb>data table notebook</a>'\n",
              "            + ' to learn more about interactive tables.';\n",
              "          element.innerHTML = '';\n",
              "          dataTable['output_type'] = 'display_data';\n",
              "          await google.colab.output.renderOutput(dataTable, element);\n",
              "          const docLink = document.createElement('div');\n",
              "          docLink.innerHTML = docLinkHtml;\n",
              "          element.appendChild(docLink);\n",
              "        }\n",
              "      </script>\n",
              "    </div>\n",
              "  </div>\n",
              "  "
            ]
          },
          "metadata": {}
        }
      ]
    },
    {
      "cell_type": "code",
      "source": [
        "fig,ax=plt.subplots()\n",
        "ax.plot(skor_df['p value'], skor_df['Traning MSE'], marker=\"o\")\n",
        "ax.set_xlabel(\"p value\")\n",
        "ax.set_ylabel(\"MSE\")\n",
        "ax.plot(skor_df['p value'], skor_df['Validation MSE'], marker=\"o\")\n",
        "plt.show()"
      ],
      "metadata": {
        "colab": {
          "base_uri": "https://localhost:8080/",
          "height": 279
        },
        "id": "oAi2-vXZ9KNw",
        "outputId": "f754b921-8a33-4a9b-e425-a13881e6bbef"
      },
      "execution_count": null,
      "outputs": [
        {
          "output_type": "display_data",
          "data": {
            "text/plain": [
              "<Figure size 432x288 with 1 Axes>"
            ],
            "image/png": "[encoded data removed]"
          },
          "metadata": {
            "needs_background": "light"
          }
        }
      ]
    },
    {
      "cell_type": "code",
      "source": [
        "poly_reg = PolynomialFeatures(degree=3)\n",
        "X_poly_train = poly_reg.fit_transform(X_test)\n",
        "lin_reg_2 = LinearRegression()\n",
        "lin_reg_2.fit(X_poly_train, y_test)\n",
        "y_pred = lin_reg_2.predict(X_poly_train)\n",
        "\n",
        "MSE_son=mean_squared_error(y_test, y_pred)\n",
        "print(\"MSE of final is = \",MSE_son)"
      ],
      "metadata": {
        "colab": {
          "base_uri": "https://localhost:8080/"
        },
        "id": "AmIBcj7iSc7h",
        "outputId": "4e0cfb78-0968-4b20-8619-afbe712f77f3"
      },
      "execution_count": null,
      "outputs": [
        {
          "output_type": "stream",
          "name": "stdout",
          "text": [
            "MSE of final is =  7.230153331424077\n"
          ]
        }
      ]
    },
    {
      "cell_type": "markdown",
      "source": [
        "The best p value is 3 since p value gives best performance for both validation and traning MSE. In other words, even MSE gets better when p value reachs 4 in traning data, then MSE of validation gets worse so we should consider both data to decide p value."
      ],
      "metadata": {
        "id": "Wt0IMIk1NIgG"
      }
    },
    {
      "cell_type": "code",
      "source": [
        "from sklearn.neighbors import KNeighborsClassifier\n",
        "\n",
        "kVals = [2, 5, 10, 15]\n",
        "train_MSE_KNN=[]\n",
        "val_MSE_KNN=[]\n",
        "for k in kVals:\n",
        "  \n",
        " \n",
        "  model = KNeighborsClassifier(n_neighbors=k)\n",
        "  model.fit(X_train, y_train)\n",
        "  y_pred = model.predict(X_train)\n",
        "  train_MSE_KNN.append(mean_squared_error(y_train, y_pred))\n",
        "  y_pred = model.predict(X_val)\n",
        "  val_MSE_KNN.append(mean_squared_error(y_val, y_pred))\n",
        "  \n",
        "  "
      ],
      "metadata": {
        "id": "TTdQf2P_40hH"
      },
      "execution_count": null,
      "outputs": []
    },
    {
      "cell_type": "code",
      "source": [
        "skor_df_KNN=[]\n",
        "skor_df_KNN=pd.DataFrame(skor_df_KNN)\n",
        "skor_df_KNN['k value']=kVals\n",
        "skor_df_KNN['Traning MSE']=train_MSE_KNN\n",
        "skor_df_KNN['Validation MSE']=val_MSE_KNN\n",
        "display(skor_df_KNN)"
      ],
      "metadata": {
        "colab": {
          "base_uri": "https://localhost:8080/",
          "height": 173
        },
        "id": "u-PFm3k17O45",
        "outputId": "ba1da634-679e-4e77-8ebb-2e90a0af1677"
      },
      "execution_count": null,
      "outputs": [
        {
          "output_type": "display_data",
          "data": {
            "text/plain": [
              "   k value  Traning MSE  Validation MSE\n",
              "0        2    10.310114       19.165625\n",
              "1        5    19.214334       24.978125\n",
              "2       10    16.520429       17.784375\n",
              "3       15    17.323510       18.259375"
            ],
            "text/html": [
              "\n",
              "  <div id=\"df-9094fc49-9926-4fad-b356-d016bfe0d380\">\n",
              "    <div class=\"colab-df-container\">\n",
              "      <div>\n",
              "<style scoped>\n",
              "    .dataframe tbody tr th:only-of-type {\n",
              "        vertical-align: middle;\n",
              "    }\n",
              "\n",
              "    .dataframe tbody tr th {\n",
              "        vertical-align: top;\n",
              "    }\n",
              "\n",
              "    .dataframe thead th {\n",
              "        text-align: right;\n",
              "    }\n",
              "</style>\n",
              "<table border=\"1\" class=\"dataframe\">\n",
              "  <thead>\n",
              "    <tr style=\"text-align: right;\">\n",
              "      <th></th>\n",
              "      <th>k value</th>\n",
              "      <th>Traning MSE</th>\n",
              "      <th>Validation MSE</th>\n",
              "    </tr>\n",
              "  </thead>\n",
              "  <tbody>\n",
              "    <tr>\n",
              "      <th>0</th>\n",
              "      <td>2</td>\n",
              "      <td>10.310114</td>\n",
              "      <td>19.165625</td>\n",
              "    </tr>\n",
              "    <tr>\n",
              "      <th>1</th>\n",
              "      <td>5</td>\n",
              "      <td>19.214334</td>\n",
              "      <td>24.978125</td>\n",
              "    </tr>\n",
              "    <tr>\n",
              "      <th>2</th>\n",
              "      <td>10</td>\n",
              "      <td>16.520429</td>\n",
              "      <td>17.784375</td>\n",
              "    </tr>\n",
              "    <tr>\n",
              "      <th>3</th>\n",
              "      <td>15</td>\n",
              "      <td>17.323510</td>\n",
              "      <td>18.259375</td>\n",
              "    </tr>\n",
              "  </tbody>\n",
              "</table>\n",
              "</div>\n",
              "      <button class=\"colab-df-convert\" onclick=\"convertToInteractive('df-9094fc49-9926-4fad-b356-d016bfe0d380')\"\n",
              "              title=\"Convert this dataframe to an interactive table.\"\n",
              "              style=\"display:none;\">\n",
              "        \n",
              "  <svg xmlns=\"http://www.w3.org/2000/svg\" height=\"24px\"viewBox=\"0 0 24 24\"\n",
              "       width=\"24px\">\n",
              "    <path d=\"M0 0h24v24H0V0z\" fill=\"none\"/>\n",
              "    <path d=\"M18.56 5.44l.94 2.06.94-2.06 2.06-.94-2.06-.94-.94-2.06-.94 2.06-2.06.94zm-11 1L8.5 8.5l.94-2.06 2.06-.94-2.06-.94L8.5 2.5l-.94 2.06-2.06.94zm10 10l.94 2.06.94-2.06 2.06-.94-2.06-.94-.94-2.06-.94 2.06-2.06.94z\"/><path d=\"M17.41 7.96l-1.37-1.37c-.4-.4-.92-.59-1.43-.59-.52 0-1.04.2-1.43.59L10.3 9.45l-7.72 7.72c-.78.78-.78 2.05 0 2.83L4 21.41c.39.39.9.59 1.41.59.51 0 1.02-.2 1.41-.59l7.78-7.78 2.81-2.81c.8-.78.8-2.07 0-2.86zM5.41 20L4 18.59l7.72-7.72 1.47 1.35L5.41 20z\"/>\n",
              "  </svg>\n",
              "      </button>\n",
              "      \n",
              "  <style>\n",
              "    .colab-df-container {\n",
              "      display:flex;\n",
              "      flex-wrap:wrap;\n",
              "      gap: 12px;\n",
              "    }\n",
              "\n",
              "    .colab-df-convert {\n",
              "      background-color: #E8F0FE;\n",
              "      border: none;\n",
              "      border-radius: 50%;\n",
              "      cursor: pointer;\n",
              "      display: none;\n",
              "      fill: #1967D2;\n",
              "      height: 32px;\n",
              "      padding: 0 0 0 0;\n",
              "      width: 32px;\n",
              "    }\n",
              "\n",
              "    .colab-df-convert:hover {\n",
              "      background-color: #E2EBFA;\n",
              "      box-shadow: 0px 1px 2px rgba(60, 64, 67, 0.3), 0px 1px 3px 1px rgba(60, 64, 67, 0.15);\n",
              "      fill: #174EA6;\n",
              "    }\n",
              "\n",
              "    [theme=dark] .colab-df-convert {\n",
              "      background-color: #3B4455;\n",
              "      fill: #D2E3FC;\n",
              "    }\n",
              "\n",
              "    [theme=dark] .colab-df-convert:hover {\n",
              "      background-color: #434B5C;\n",
              "      box-shadow: 0px 1px 3px 1px rgba(0, 0, 0, 0.15);\n",
              "      filter: drop-shadow(0px 1px 2px rgba(0, 0, 0, 0.3));\n",
              "      fill: #FFFFFF;\n",
              "    }\n",
              "  </style>\n",
              "\n",
              "      <script>\n",
              "        const buttonEl =\n",
              "          document.querySelector('#df-9094fc49-9926-4fad-b356-d016bfe0d380 button.colab-df-convert');\n",
              "        buttonEl.style.display =\n",
              "          google.colab.kernel.accessAllowed ? 'block' : 'none';\n",
              "\n",
              "        async function convertToInteractive(key) {\n",
              "          const element = document.querySelector('#df-9094fc49-9926-4fad-b356-d016bfe0d380');\n",
              "          const dataTable =\n",
              "            await google.colab.kernel.invokeFunction('convertToInteractive',\n",
              "                                                     [key], {});\n",
              "          if (!dataTable) return;\n",
              "\n",
              "          const docLinkHtml = 'Like what you see? Visit the ' +\n",
              "            '<a target=\"_blank\" href=https://colab.research.google.com/notebooks/data_table.ipynb>data table notebook</a>'\n",
              "            + ' to learn more about interactive tables.';\n",
              "          element.innerHTML = '';\n",
              "          dataTable['output_type'] = 'display_data';\n",
              "          await google.colab.output.renderOutput(dataTable, element);\n",
              "          const docLink = document.createElement('div');\n",
              "          docLink.innerHTML = docLinkHtml;\n",
              "          element.appendChild(docLink);\n",
              "        }\n",
              "      </script>\n",
              "    </div>\n",
              "  </div>\n",
              "  "
            ]
          },
          "metadata": {}
        }
      ]
    },
    {
      "cell_type": "code",
      "source": [
        "fig,ax=plt.subplots()\n",
        "ax.plot(skor_df_KNN['k value'], skor_df_KNN['Traning MSE'], marker=\"o\")\n",
        "ax.set_xlabel(\"k value\")\n",
        "ax.set_ylabel(\"MSE\")\n",
        "ax.plot(skor_df_KNN['k value'], skor_df_KNN['Validation MSE'], marker=\"o\")\n",
        "plt.show()"
      ],
      "metadata": {
        "colab": {
          "base_uri": "https://localhost:8080/",
          "height": 279
        },
        "id": "LqmFBeoW8YhL",
        "outputId": "a3ce9ec1-0a74-478e-bbe2-10620e2c5d03"
      },
      "execution_count": null,
      "outputs": [
        {
          "output_type": "display_data",
          "data": {
            "text/plain": [
              "<Figure size 432x288 with 1 Axes>"
            ],
            "image/png": "[encoded data removed]"
          },
          "metadata": {
            "needs_background": "light"
          }
        }
      ]
    },
    {
      "cell_type": "code",
      "source": [
        "model = KNeighborsClassifier(n_neighbors=10)\n",
        "model.fit(X_train, y_train)\n",
        "y_pred = model.predict(X_test)\n",
        "TestAccuracy = accuracy_score(y_pred,y_test,)\n",
        "print(\"Testing Accuracy = %.5f%%\" % (TestAccuracy * 100), 'for k value= ',10)"
      ],
      "metadata": {
        "colab": {
          "base_uri": "https://localhost:8080/"
        },
        "id": "NEoUqUOaR6__",
        "outputId": "bc535a2a-2130-4f66-9851-3b4a5d1ea239"
      },
      "execution_count": null,
      "outputs": [
        {
          "output_type": "stream",
          "name": "stdout",
          "text": [
            "Testing Accuracy = 8.12500% for k value=  10\n"
          ]
        }
      ]
    },
    {
      "cell_type": "code",
      "source": [
        "model = KNeighborsClassifier(n_neighbors=10)\n",
        "model.fit(X_train, y_train)\n",
        "y_pred = model.predict(X_test)\n",
        "MSE_son=mean_squared_error(y_test, y_pred)\n",
        "print(\"MSE of final is = \",MSE_son)\n"
      ],
      "metadata": {
        "colab": {
          "base_uri": "https://localhost:8080/"
        },
        "id": "C_KFZBgkVgtQ",
        "outputId": "9d47ef8e-8be7-43aa-9554-a21f63ede713"
      },
      "execution_count": null,
      "outputs": [
        {
          "output_type": "stream",
          "name": "stdout",
          "text": [
            "MSE of final is =  19.19375\n"
          ]
        }
      ]
    },
    {
      "cell_type": "markdown",
      "source": [
        "The best k value is 10 since k value gives best performance for both validation and traning MSE. In other cases, the gap between traning MSE and validation MSE is eigher very high or they both higher."
      ],
      "metadata": {
        "id": "DbGdLYyRNvcm"
      }
    },
    {
      "cell_type": "markdown",
      "source": [
        "**Report**\n",
        "\n",
        "The data set consist of information about test that is written by students and there are 8 object and 2 numerical features with numerical label. Based on two models called Polynomial regression and KNN, It is asked to report hyperparameters and thier mean square error to determine best for both model. \n",
        "\n",
        "There were not any null value in the data set so it was okay to process futhere. Corelation between lable and numerical features are examined and they were okay for the model. Distribution of the categorial columns are ploted into graphs to determine useless feature. From the graphs it was easy to see that student ID was very unique for each student so that this feature was not useful. On the other hand, since my computer crashed several times due to RAM problem I had to drop classroom and school features as well. Then it was time to label these catagorical features with one-hot encoding.\n",
        "\n",
        "We have obtained the best results with the KNN classifier (k value= 10), giving classification accuracy of 8.12 % on test data and MSE was 19.19 %. And, Polynomial regression model had best MSE of 7.23 % with p value = 3.\n",
        "\n",
        "Finally, It seems like Polynomial regression model gives significantly better test results but both models should have been improved in order to achive a good model."
      ],
      "metadata": {
        "id": "-eeUgSJ7Ojq5"
      }
    }
  ]
}